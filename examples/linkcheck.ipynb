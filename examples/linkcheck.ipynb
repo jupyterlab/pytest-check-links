{
 "cells": [
  {
   "cell_type": "code",
   "execution_count": 1,
   "metadata": {
    "collapsed": true
   },
   "outputs": [],
   "source": [
    "a = 5"
   ]
  },
  {
   "cell_type": "code",
   "execution_count": 2,
   "metadata": {},
   "outputs": [
    {
     "name": "stdout",
     "output_type": "stream",
     "text": [
      "5\n"
     ]
    }
   ],
   "source": [
    "print(a)"
   ]
  },
  {
   "cell_type": "markdown",
   "metadata": {},
   "source": [
    "\n",
    "<a href=\"https://jupyter.org\">real link</a>\n",
    "\n",
    "<a href=\"https://jupyter.org/404\">real link bad</a>\n",
    "\n",
    "\n",
    "![img](https://jupyter.readthedocs.io/en/latest/_static/_images/jupyter.svg)\n",
    "\n",
    "[markdown internal](#hash)\n",
    "\n",
    "[markdown local good](./linkcheck.ipynb)\n",
    "\n",
    "[markdown local bad](doesntexist.html)\n",
    "\n",
    "[markdown absolute](/tmp)\n",
    "\n",
    "[markdown link to ignore](http://example.com/404)"
   ]
  },
  {
   "cell_type": "markdown",
   "metadata": {},
   "source": []
  }
 ],
 "metadata": {
  "kernelspec": {
   "display_name": "Python 3",
   "language": "python",
   "name": "python3"
  },
  "language_info": {
   "codemirror_mode": {
    "name": "ipython",
    "version": 3
   },
   "file_extension": ".py",
   "mimetype": "text/x-python",
   "name": "python",
   "nbconvert_exporter": "python",
   "pygments_lexer": "ipython3",
   "version": "3.5.2"
  }
 },
 "nbformat": 4,
 "nbformat_minor": 2
}
